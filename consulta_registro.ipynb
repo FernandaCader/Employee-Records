{
 "cells": [
  {
   "attachments": {},
   "cell_type": "markdown",
   "metadata": {},
   "source": [
    "# Employee Records\n"
   ]
  },
  {
   "attachments": {},
   "cell_type": "markdown",
   "metadata": {},
   "source": [
    "A graphical application will be created using Python to manage an employee database. The management tasks include establishing a database connection, creating an employee table, inserting, querying, updating, and deleting employee records and information within the company."
   ]
  },
  {
   "cell_type": "code",
   "execution_count": 1,
   "metadata": {},
   "outputs": [],
   "source": [
    "### Library Imports\n",
    "import sqlite3\n",
    "from sqlite3 import Error\n",
    "from tkinter import *\n",
    "from tkinter import messagebox"
   ]
  },
  {
   "attachments": {},
   "cell_type": "markdown",
   "metadata": {},
   "source": [
    "# Database Connection Creation"
   ]
  },
  {
   "cell_type": "code",
   "execution_count": 2,
   "metadata": {},
   "outputs": [],
   "source": [
    "def create_connection():\n",
    "    conn = None\n",
    "    try:\n",
    "        conn = sqlite3.connect('employee_db.sqlite')\n",
    "        print(sqlite3.version)\n",
    "    except Error as e:\n",
    "        print(e)\n",
    "    return conn"
   ]
  },
  {
   "attachments": {},
   "cell_type": "markdown",
   "metadata": {},
   "source": [
    "# Employee Table Creation"
   ]
  },
  {
   "cell_type": "code",
   "execution_count": 3,
   "metadata": {},
   "outputs": [],
   "source": [
    "def create_table(conn):\n",
    "    try:\n",
    "        sql = ''' CREATE TABLE IF NOT EXISTS employees (\n",
    "                                        id integer PRIMARY KEY,\n",
    "                                        name text NOT NULL,\n",
    "                                        position text NOT NULL,\n",
    "                                        salary real\n",
    "                                    ); '''\n",
    "        conn.cursor().execute(sql)\n",
    "    except Error as e:\n",
    "        print(e)"
   ]
  },
  {
   "attachments": {},
   "cell_type": "markdown",
   "metadata": {},
   "source": [
    "## Employee Insertion"
   ]
  },
  {
   "cell_type": "code",
   "execution_count": 4,
   "metadata": {},
   "outputs": [],
   "source": [
    "def insert_employee(conn, employee):\n",
    "    sql = ''' INSERT INTO employees(name, position, salary)\n",
    "              VALUES(?,?,?) '''\n",
    "    cur = conn.cursor()\n",
    "    cur.execute(sql, employee)\n",
    "    conn.commit()\n",
    "    return cur.lastrowid"
   ]
  },
  {
   "attachments": {},
   "cell_type": "markdown",
   "metadata": {},
   "source": [
    "# Employee Query"
   ]
  },
  {
   "cell_type": "code",
   "execution_count": 5,
   "metadata": {},
   "outputs": [],
   "source": [
    "def query_employees(conn):\n",
    "    cur = conn.cursor()\n",
    "    cur.execute(\"SELECT * FROM employees\")\n",
    "    rows = cur.fetchall()\n",
    "    for row in rows:\n",
    "        print(row)"
   ]
  },
  {
   "attachments": {},
   "cell_type": "markdown",
   "metadata": {},
   "source": [
    "# Employee Update"
   ]
  },
  {
   "cell_type": "code",
   "execution_count": 6,
   "metadata": {},
   "outputs": [],
   "source": [
    "def update_employee(conn, employee):\n",
    "    sql = '''\n",
    "    UPDATE employees\n",
    "    SET name = ?,\n",
    "        position = ?,\n",
    "        salary = ?\n",
    "    WHERE id = ?\n",
    "    '''\n",
    "    cur = conn.cursor()\n",
    "    cur.execute(sql, employee)\n",
    "    conn.commit()\n"
   ]
  },
  {
   "attachments": {},
   "cell_type": "markdown",
   "metadata": {},
   "source": [
    "# Employee Deletion"
   ]
  },
  {
   "cell_type": "code",
   "execution_count": 7,
   "metadata": {},
   "outputs": [],
   "source": [
    "def delete_employee(conn, id):\n",
    "    sql = 'DELETE FROM employees WHERE id = ?'\n",
    "    cur = conn.cursor()\n",
    "    cur.execute(sql, (id,))\n",
    "    conn.commit()\n"
   ]
  },
  {
   "attachments": {},
   "cell_type": "markdown",
   "metadata": {},
   "source": [
    "# Application Window Creation"
   ]
  },
  {
   "cell_type": "code",
   "execution_count": 8,
   "metadata": {},
   "outputs": [],
   "source": [
    "def create_window():\n",
    "    window = Tk()\n",
    "    window.title(\"Employee Management\")\n",
    "    window.geometry(\"800x600\")\n",
    "    return window"
   ]
  },
  {
   "attachments": {},
   "cell_type": "markdown",
   "metadata": {},
   "source": [
    "# User Interface Components"
   ]
  },
  {
   "cell_type": "code",
   "execution_count": 9,
   "metadata": {},
   "outputs": [
    {
     "name": "stdout",
     "output_type": "stream",
     "text": [
      "2.6.0\n"
     ]
    },
    {
     "ename": "SystemExit",
     "evalue": "0",
     "output_type": "error",
     "traceback": [
      "An exception has occurred, use %tb to see the full traceback.\n",
      "\u001b[1;31mSystemExit\u001b[0m\u001b[1;31m:\u001b[0m 0\n"
     ]
    },
    {
     "name": "stderr",
     "output_type": "stream",
     "text": [
      "C:\\Users\\Fernanda\\AppData\\Local\\Packages\\PythonSoftwareFoundation.Python.3.11_qbz5n2kfra8p0\\LocalCache\\local-packages\\Python311\\site-packages\\IPython\\core\\interactiveshell.py:3516: UserWarning: To exit: use 'exit', 'quit', or Ctrl-D.\n",
      "  warn(\"To exit: use 'exit', 'quit', or Ctrl-D.\", stacklevel=1)\n"
     ]
    }
   ],
   "source": [
    "from tkinter import *\n",
    "from tkinter import messagebox\n",
    "import sys\n",
    "from PyQt5.QtWidgets import QApplication, QMainWindow, QLabel, QWidget, QVBoxLayout, QHBoxLayout, QLineEdit, QPushButton, QTextEdit\n",
    "from PyQt5.QtGui import QTextCursor\n",
    "from PyQt5.QtCore import Qt\n",
    "from PyQt5.QtWidgets import QMessageBox\n",
    "from sqlite3 import Error\n",
    "import sqlite3\n",
    "\n",
    "# Function to create a database connection\n",
    "def create_connection():\n",
    "    conn = None\n",
    "    try:\n",
    "        conn = sqlite3.connect('empleados_db.sqlite')\n",
    "        print(sqlite3.version)\n",
    "    except Error as e:\n",
    "        print(e)\n",
    "    return conn\n",
    "\n",
    "# Function to create the employees table\n",
    "def create_table(conn):\n",
    "    try:\n",
    "        sql = '''CREATE TABLE IF NOT EXISTS empleados (\n",
    "                    id integer PRIMARY KEY,\n",
    "                    nombre text NOT NULL,\n",
    "                    cargo text NOT NULL,\n",
    "                    salario real\n",
    "                );'''\n",
    "        conn.cursor().execute(sql)\n",
    "    except Error as e:\n",
    "        print(e)\n",
    "\n",
    "# Function to insert an employee into the database\n",
    "def insert_employee(conn, employee):\n",
    "    sql = '''INSERT INTO empleados(nombre, cargo, salario)\n",
    "            VALUES(?,?,?)'''\n",
    "    cur = conn.cursor()\n",
    "    cur.execute(sql, employee)\n",
    "    conn.commit()\n",
    "    return cur.lastrowid\n",
    "\n",
    "# Function to retrieve all employees from the database\n",
    "def retrieve_employees(conn):\n",
    "    cur = conn.cursor()\n",
    "    cur.execute(\"SELECT * FROM empleados\")\n",
    "    rows = cur.fetchall()\n",
    "    for row in rows:\n",
    "        print(row)\n",
    "\n",
    "# Function to update an employee in the database\n",
    "def update_employee(conn, employee):\n",
    "    sql = '''\n",
    "    UPDATE empleados\n",
    "    SET nombre = ?,\n",
    "        cargo = ?,\n",
    "        salario = ?\n",
    "    WHERE id = ?\n",
    "    '''\n",
    "    cur = conn.cursor()\n",
    "    cur.execute(sql, employee)\n",
    "    conn.commit()\n",
    "\n",
    "# Function to delete an employee from the database\n",
    "def delete_employee(conn, id):\n",
    "    sql = 'DELETE FROM empleados WHERE id = ?'\n",
    "    cur = conn.cursor()\n",
    "    cur.execute(sql, (id,))\n",
    "    conn.commit()\n",
    "\n",
    "# Class for the main application window\n",
    "class MainWindow(QMainWindow):\n",
    "    def __init__(self, conn):\n",
    "        super().__init__()\n",
    "        self.conn = conn\n",
    "        self.setWindowTitle(\"Employee Management\")\n",
    "        self.setGeometry(100, 100, 800, 600)\n",
    "\n",
    "        main_widget = QWidget()\n",
    "        main_layout = QVBoxLayout()\n",
    "        main_widget.setLayout(main_layout)\n",
    "\n",
    "        self.name_text = QLineEdit()\n",
    "        self.position_text = QLineEdit()\n",
    "        self.salary_text = QLineEdit()\n",
    "        self.results_text = QTextEdit()\n",
    "        self.id_text = QLineEdit()\n",
    "\n",
    "        main_layout.addWidget(QLabel(\"Employee Name:\"))\n",
    "        main_layout.addWidget(self.name_text)\n",
    "\n",
    "        main_layout.addWidget(QLabel(\"Employee Position:\"))\n",
    "        main_layout.addWidget(self.position_text)\n",
    "\n",
    "        main_layout.addWidget(QLabel(\"Employee Salary:\"))\n",
    "        main_layout.addWidget(self.salary_text)\n",
    "\n",
    "        main_layout.addWidget(QPushButton(\"Insert Employee\", clicked=self.insert_employee))\n",
    "\n",
    "        main_layout.addWidget(QLabel(\"Query Results:\"))\n",
    "        main_layout.addWidget(self.results_text)\n",
    "\n",
    "        main_layout.addWidget(QPushButton(\"Retrieve Employees\", clicked=self.retrieve_employees))\n",
    "\n",
    "        main_layout.addWidget(QLabel(\"Employee ID for Update/Delete:\"))\n",
    "        main_layout.addWidget(self.id_text)\n",
    "\n",
    "        main_layout.addWidget(QPushButton(\"Load Employee\", clicked=self.load_employee))\n",
    "        main_layout.addWidget(QPushButton(\"Update Employee\", clicked=self.update_employee))\n",
    "        main_layout.addWidget(QPushButton(\"Delete Employee\", clicked=self.delete_employee))\n",
    "\n",
    "        self.setCentralWidget(main_widget)\n",
    "\n",
    "    def insert_employee(self):\n",
    "        name = self.name_text.text()\n",
    "        position = self.position_text.text()\n",
    "        salary = float(self.salary_text.text())\n",
    "        employee = (name, position, salary)\n",
    "        employee_id = insert_employee(self.conn, employee)\n",
    "        QMessageBox.information(self, \"Information\", f\"Employee inserted with ID: {employee_id}\")\n",
    "        self.name_text.clear()\n",
    "        self.position_text.clear()\n",
    "        self.salary_text.clear()\n",
    "\n",
    "    def retrieve_employees(self):\n",
    "        cur = self.conn.cursor()\n",
    "        cur.execute(\"SELECT * FROM empleados\")\n",
    "        rows = cur.fetchall()\n",
    "        self.results_text.clear()\n",
    "        for row in rows:\n",
    "            self.results_text.insertPlainText(str(row) + '\\n')\n",
    "\n",
    "    def load_employee(self):\n",
    "        employee_id = int(self.id_text.text())\n",
    "        cur = self.conn.cursor()\n",
    "        cur.execute(\"SELECT * FROM empleados WHERE id=?\", (employee_id,))\n",
    "        row = cur.fetchone()\n",
    "        if row is not None:\n",
    "            self.name_text.setText(row[1])\n",
    "            self.position_text.setText(row[2])\n",
    "            self.salary_text.setText(str(row[3]))\n",
    "        else:\n",
    "            QMessageBox.warning(self, \"Error\", \"No employee found with that ID\")\n",
    "\n",
    "    def update_employee(self):\n",
    "        employee_id = int(self.id_text.text())\n",
    "        response = QMessageBox.question(self, \"Confirm Update\", \"Are you sure you want to update this employee?\")\n",
    "        if response == QMessageBox.Yes:\n",
    "            name = self.name_text.text()\n",
    "            position = self.position_text.text()\n",
    "            salary = float(self.salary_text.text())\n",
    "            employee = (name, position, salary, employee_id)\n",
    "            update_employee(self.conn, employee)\n",
    "            QMessageBox.information(self, \"Information\", \"Employee updated.\")\n",
    "            self.name_text.clear()\n",
    "            self.position_text.clear()\n",
    "            self.salary_text.clear()\n",
    "\n",
    "    def delete_employee(self):\n",
    "        employee_id = int(self.id_text.text())\n",
    "        response = QMessageBox.question(self, \"Confirm Deletion\", \"Are you sure you want to delete this employee?\")\n",
    "        if response == QMessageBox.Yes:\n",
    "            delete_employee(self.conn, employee_id)\n",
    "            QMessageBox.information(self, \"Information\", \"Employee deleted.\")\n",
    "            self.name_text.clear()\n",
    "            self.position_text.clear()\n",
    "            self.salary_text.clear()\n",
    "\n",
    "if __name__ == '__main__':\n",
    "    conn = create_connection()\n",
    "    create_table(conn)\n",
    "\n",
    "    app = QApplication(sys.argv)\n",
    "    window = MainWindow(conn)\n",
    "    window.show()\n",
    "\n",
    "    sys.exit(app.exec_())\n"
   ]
  },
  {
   "attachments": {},
   "cell_type": "markdown",
   "metadata": {},
   "source": [
    "It utilizes the PyQt5 library for creating the application window, handling user input, and displaying information.\n",
    "\n",
    "Please note that the code assumes the existence of a SQLite database file named \"employee_db.sqlite\" in the same directory as the application file.\n",
    "\n",
    "Feel free to explore the code and modify it according to your needs."
   ]
  }
 ],
 "metadata": {
  "kernelspec": {
   "display_name": "Python 3",
   "language": "python",
   "name": "python3"
  },
  "language_info": {
   "codemirror_mode": {
    "name": "ipython",
    "version": 3
   },
   "file_extension": ".py",
   "mimetype": "text/x-python",
   "name": "python",
   "nbconvert_exporter": "python",
   "pygments_lexer": "ipython3",
   "version": "3.11.4"
  },
  "orig_nbformat": 4
 },
 "nbformat": 4,
 "nbformat_minor": 2
}
